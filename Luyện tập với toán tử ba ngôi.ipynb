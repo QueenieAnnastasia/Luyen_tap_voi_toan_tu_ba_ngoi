{
 "cells": [
  {
   "cell_type": "code",
   "execution_count": null,
   "id": "4ab6a401",
   "metadata": {},
   "outputs": [],
   "source": [
    "### Điều kiện\n",
    "## Luyện tập với toán tử ba ngôi\n",
    "\n",
    "## nếu dùng if - else\n",
    "a = int(input(\"Nhập vào số bất kỳ: \"))\n",
    "if a % 2 ==0:\n",
    "    print(\"Đây là số chẵn\")\n",
    "else:\n",
    "    print(\"Đây là số lẻ\")\n",
    "    \n",
    "## toán tử ba ngôi:\n",
    "a = int(input(\"Nhập vào số bất kỳ: \"))\n",
    "kq = \"Chẵn\" if a %2 == 0 else \"Lẻ\"\n",
    "print(kq)"
   ]
  }
 ],
 "metadata": {
  "kernelspec": {
   "display_name": "Python 3 (ipykernel)",
   "language": "python",
   "name": "python3"
  },
  "language_info": {
   "codemirror_mode": {
    "name": "ipython",
    "version": 3
   },
   "file_extension": ".py",
   "mimetype": "text/x-python",
   "name": "python",
   "nbconvert_exporter": "python",
   "pygments_lexer": "ipython3",
   "version": "3.10.5"
  }
 },
 "nbformat": 4,
 "nbformat_minor": 5
}
